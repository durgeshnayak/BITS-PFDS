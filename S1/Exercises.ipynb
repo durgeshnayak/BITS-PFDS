{
 "cells": [
  {
   "cell_type": "markdown",
   "source": [
    "Exercise 1 - Given a number, find the sum of its digits. Take the number as\n",
    "an input from the user."
   ],
   "metadata": {
    "collapsed": false
   }
  },
  {
   "cell_type": "markdown",
   "source": [
    "Solution #1: If you love STRINGS!!!"
   ],
   "metadata": {
    "collapsed": false
   }
  },
  {
   "cell_type": "code",
   "execution_count": null,
   "outputs": [],
   "source": [
    "is_input_valid = False\n",
    "\n",
    "while not is_input_valid:\n",
    "    user_input = input(\"Please enter a number or exit to quit: \")\n",
    "\n",
    "    if user_input.lower() == \"exit\":\n",
    "        is_input_valid = True\n",
    "        break\n",
    "\n",
    "    sum_total = 0\n",
    "    try:\n",
    "        numeric_input = int(user_input)\n",
    "    except ValueError:\n",
    "        print(\"Please enter numeric values only!\")\n",
    "    else:\n",
    "        for index in range(len(user_input)):\n",
    "            sum_total += int(user_input[index])\n",
    "        is_input_valid = True\n",
    "        print(f\"The sum of the digits of {numeric_input} is {sum_total}.\")"
   ],
   "metadata": {
    "collapsed": false,
    "ExecuteTime": {
     "start_time": "2023-04-13T20:13:07.086400Z",
     "end_time": "2023-04-13T20:13:15.607255Z"
    }
   }
  },
  {
   "cell_type": "markdown",
   "source": [
    "Solution #2: If you love NUMBERS!!!"
   ],
   "metadata": {
    "collapsed": false
   }
  },
  {
   "cell_type": "code",
   "execution_count": null,
   "outputs": [],
   "source": [
    "is_input_valid = False\n",
    "\n",
    "while not is_input_valid:\n",
    "    user_input = input(\"Please enter a number or exit to quit: \")\n",
    "\n",
    "    if user_input.lower() == \"exit\":\n",
    "        is_input_valid = True\n",
    "        break\n",
    "\n",
    "    sum_total = 0\n",
    "    try:\n",
    "        numeric_input = int(user_input)\n",
    "    except ValueError:\n",
    "        print(\"Please enter numeric values only!\")\n",
    "    else:\n",
    "        while numeric_input != 0:\n",
    "            sum_total += numeric_input % 10\n",
    "            numeric_input = numeric_input // 10\n",
    "        is_input_valid = True\n",
    "        print(f\"The sum of the digits of {numeric_input} is {sum_total}.\")"
   ],
   "metadata": {
    "collapsed": false,
    "ExecuteTime": {
     "start_time": "2023-04-13T20:21:07.238910Z",
     "end_time": "2023-04-13T20:21:18.149924Z"
    }
   }
  },
  {
   "cell_type": "markdown",
   "source": [
    "Exercise 2 - Given a number, check whether the given number is an Armstrong number or not. A positive integer is called an Armstrong number of order n if: abcd... = a^n + b^n + c^n + d^n + ...\n",
    "Example: 153 = 1*1*1 + 5*5*5 + 3*3*3\n",
    "153 is an Armstrong number of order 3.\n",
    "Inputs from the user will be number and order n."
   ],
   "metadata": {
    "collapsed": false
   }
  },
  {
   "cell_type": "markdown",
   "source": [
    "AGAIN with STRINGS!!!"
   ],
   "metadata": {
    "collapsed": false
   }
  },
  {
   "cell_type": "code",
   "execution_count": null,
   "outputs": [],
   "source": [
    "is_input_valid = False\n",
    "\n",
    "while not is_input_valid:\n",
    "    user_input = input(\"Please enter a number or exit to quit: \")\n",
    "    if user_input.lower() == \"exit\":\n",
    "        is_input_valid = True\n",
    "        break\n",
    "    user_order = input(\"What order would you like to check for?: \")\n",
    "    sum_total = 0\n",
    "\n",
    "\n",
    "\n",
    "    try:\n",
    "        numeric_input = int(user_input)\n",
    "        numeric_order = int(user_order)\n",
    "    except ValueError:\n",
    "        print(\"Please enter numeric values only!\")\n",
    "    else:\n",
    "        for index in range(len(user_input)):\n",
    "            sum_total += pow(int(user_input[index]), numeric_order)\n",
    "        if numeric_input == sum_total:\n",
    "            print(f\"{numeric_input} is an Armstrong number of order {numeric_order}\")\n",
    "        else:\n",
    "            print(f\"{numeric_input} is not an Armstrong number of order {numeric_order}\")\n",
    "        is_input_valid = True"
   ],
   "metadata": {
    "collapsed": false,
    "ExecuteTime": {
     "start_time": "2023-04-13T22:04:07.651468Z",
     "end_time": "2023-04-13T22:04:12.592169Z"
    }
   }
  },
  {
   "cell_type": "markdown",
   "source": [
    "If you don't like strings please use the same logic as the first problem to extract digits in units, tens... places and feed them to the pow() function."
   ],
   "metadata": {
    "collapsed": false
   }
  },
  {
   "cell_type": "markdown",
   "source": [
    "Exercise 3 - Given a string, write a python function to check if it is palindrome or not. A string is said to be palindrome if the reverse of the string is the same as string. For example, “malayalam” is a palindrome, but “music” is not a palindrome."
   ],
   "metadata": {
    "collapsed": false
   }
  },
  {
   "cell_type": "code",
   "execution_count": null,
   "outputs": [],
   "source": [
    "is_input_valid = False\n",
    "\n",
    "while not is_input_valid:\n",
    "    user_input = input(\"Please enter the word that you would like to check or exit to quit: \")\n",
    "\n",
    "    if user_input.lower() == \"exit\":\n",
    "        is_input_valid = True\n",
    "        break\n",
    "\n",
    "    alphabets = [user_input[index] for index in range(len(user_input))]\n",
    "    alphabets_reversed = [user_input[index] for index in range(len(user_input))]\n",
    "    alphabets_reversed.reverse()\n",
    "\n",
    "\n",
    "    if alphabets == alphabets_reversed:\n",
    "        print(f\"{user_input} is a palindrome\")\n",
    "    else:\n",
    "        print(f\"{user_input} is not a palindrome\")\n",
    "    is_input_valid = True"
   ],
   "metadata": {
    "collapsed": false,
    "ExecuteTime": {
     "start_time": "2023-04-13T22:43:20.131046Z",
     "end_time": "2023-04-13T22:43:27.657731Z"
    }
   }
  },
  {
   "cell_type": "markdown",
   "source": [
    "Exercise 4 - Given an array which may contain duplicates, print all elements and their frequencies."
   ],
   "metadata": {
    "collapsed": false
   }
  },
  {
   "cell_type": "code",
   "execution_count": null,
   "outputs": [],
   "source": [],
   "metadata": {
    "collapsed": false
   }
  }
 ],
 "metadata": {
  "kernelspec": {
   "display_name": "Python 3",
   "language": "python",
   "name": "python3"
  },
  "language_info": {
   "codemirror_mode": {
    "name": "ipython",
    "version": 2
   },
   "file_extension": ".py",
   "mimetype": "text/x-python",
   "name": "python",
   "nbconvert_exporter": "python",
   "pygments_lexer": "ipython2",
   "version": "2.7.6"
  }
 },
 "nbformat": 4,
 "nbformat_minor": 0
}
