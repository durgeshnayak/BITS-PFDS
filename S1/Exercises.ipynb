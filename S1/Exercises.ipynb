{
 "cells": [
  {
   "cell_type": "markdown",
   "source": [
    "Exercise 1 - Given a number, find the sum of its digits. Take the number as\n",
    "an input from the user."
   ],
   "metadata": {
    "collapsed": false
   }
  },
  {
   "cell_type": "markdown",
   "source": [
    "Solution #1: If you love STRINGS!!!"
   ],
   "metadata": {
    "collapsed": false
   }
  },
  {
   "cell_type": "code",
   "execution_count": null,
   "outputs": [],
   "source": [
    "is_input_valid = False\n",
    "\n",
    "while not is_input_valid:\n",
    "    user_input = input(\"Please enter a number or exit to quit: \")\n",
    "\n",
    "    if user_input.lower() == \"exit\":\n",
    "        is_input_valid = True\n",
    "        break\n",
    "\n",
    "    sum_total = 0\n",
    "    try:\n",
    "        numeric_input = int(user_input)\n",
    "    except ValueError:\n",
    "        print(\"Please enter numeric values only!\")\n",
    "    else:\n",
    "        for index in range(len(user_input)):\n",
    "            sum_total += int(user_input[index])\n",
    "        is_input_valid = True\n",
    "        print(f\"The sum of the digits of {user_input} is {sum_total}.\")"
   ],
   "metadata": {
    "collapsed": false,
    "ExecuteTime": {
     "start_time": "2023-04-14T19:34:32.019808Z",
     "end_time": "2023-04-14T19:34:44.025050Z"
    }
   }
  },
  {
   "cell_type": "markdown",
   "source": [
    "Solution #2: If you love NUMBERS!!!"
   ],
   "metadata": {
    "collapsed": false
   }
  },
  {
   "cell_type": "code",
   "execution_count": null,
   "outputs": [],
   "source": [
    "is_input_valid = False\n",
    "\n",
    "while not is_input_valid:\n",
    "    user_input = input(\"Please enter a number or exit to quit: \")\n",
    "\n",
    "    if user_input.lower() == \"exit\":\n",
    "        is_input_valid = True\n",
    "        break\n",
    "\n",
    "    sum_total = 0\n",
    "    try:\n",
    "        numeric_input = int(user_input)\n",
    "    except ValueError:\n",
    "        print(\"Please enter numeric values only!\")\n",
    "    else:\n",
    "        while numeric_input != 0:\n",
    "            sum_total += numeric_input % 10\n",
    "            numeric_input = numeric_input // 10\n",
    "        is_input_valid = True\n",
    "        print(f\"The sum of the digits of {user_input} is {sum_total}.\")"
   ],
   "metadata": {
    "collapsed": false,
    "ExecuteTime": {
     "start_time": "2023-04-14T19:34:44.004120Z",
     "end_time": "2023-04-14T19:34:54.315596Z"
    }
   }
  },
  {
   "cell_type": "markdown",
   "source": [
    "Exercise 2 - Given a number, check whether the given number is an Armstrong number or not. A positive integer is called an Armstrong number of order n if: abcd... = a^n + b^n + c^n + d^n + ...\n",
    "Example: 153 = 1*1*1 + 5*5*5 + 3*3*3\n",
    "153 is an Armstrong number of order 3.\n",
    "Inputs from the user will be number and order n."
   ],
   "metadata": {
    "collapsed": false
   }
  },
  {
   "cell_type": "markdown",
   "source": [
    "AGAIN with STRINGS!!!"
   ],
   "metadata": {
    "collapsed": false
   }
  },
  {
   "cell_type": "code",
   "execution_count": null,
   "outputs": [],
   "source": [
    "is_input_valid = False\n",
    "\n",
    "while not is_input_valid:\n",
    "    user_input = input(\"Please enter a number or exit to quit: \")\n",
    "    if user_input.lower() == \"exit\":\n",
    "        is_input_valid = True\n",
    "        break\n",
    "    user_order = input(\"What order would you like to check for?: \")\n",
    "    sum_total = 0\n",
    "\n",
    "\n",
    "\n",
    "    try:\n",
    "        numeric_input = int(user_input)\n",
    "        numeric_order = int(user_order)\n",
    "    except ValueError:\n",
    "        print(\"Please enter numeric values only!\")\n",
    "    else:\n",
    "        for index in range(len(user_input)):\n",
    "            sum_total += pow(int(user_input[index]), numeric_order)\n",
    "        if numeric_input == sum_total:\n",
    "            print(f\"{numeric_input} is an Armstrong number of order {numeric_order}\")\n",
    "        else:\n",
    "            print(f\"{numeric_input} is not an Armstrong number of order {numeric_order}\")\n",
    "        is_input_valid = True"
   ],
   "metadata": {
    "collapsed": false,
    "ExecuteTime": {
     "start_time": "2023-04-14T19:34:54.285481Z",
     "end_time": "2023-04-14T19:35:34.715877Z"
    }
   }
  },
  {
   "cell_type": "markdown",
   "source": [
    "If you don't like strings please use the same logic as the first problem to extract digits in units, tens... places and feed them to the pow() function."
   ],
   "metadata": {
    "collapsed": false
   }
  },
  {
   "cell_type": "markdown",
   "source": [
    "Exercise 3 - Given a string, write a python function to check if it is palindrome or not. A string is said to be palindrome if the reverse of the string is the same as string. For example, “malayalam” is a palindrome, but “music” is not a palindrome."
   ],
   "metadata": {
    "collapsed": false
   }
  },
  {
   "cell_type": "code",
   "execution_count": null,
   "outputs": [],
   "source": [
    "is_input_valid = False\n",
    "\n",
    "while not is_input_valid:\n",
    "    user_input = input(\"Please enter the word that you would like to check or exit to quit: \")\n",
    "\n",
    "    if user_input.lower() == \"exit\":\n",
    "        is_input_valid = True\n",
    "        break\n",
    "\n",
    "    alphabets = [user_input[index] for index in range(len(user_input))]\n",
    "    alphabets_reversed = alphabets.copy()\n",
    "    alphabets_reversed.reverse()\n",
    "\n",
    "\n",
    "    if alphabets == alphabets_reversed:\n",
    "        print(f\"{user_input} is a palindrome\")\n",
    "    else:\n",
    "        print(f\"{user_input} is not a palindrome\")\n",
    "    is_input_valid = True"
   ],
   "metadata": {
    "collapsed": false,
    "ExecuteTime": {
     "start_time": "2023-04-14T19:35:34.693102Z",
     "end_time": "2023-04-14T19:36:31.232050Z"
    }
   }
  },
  {
   "cell_type": "markdown",
   "source": [
    "Exercise 4 - Given an array which may contain duplicates, print all elements and their frequencies."
   ],
   "metadata": {
    "collapsed": false
   }
  },
  {
   "cell_type": "markdown",
   "source": [
    "An important distinction needs to be made between python Lists and Arrays. Arrays can contain items with the same data type only. Lists are more lenient when it comes to item types. However, since we are not supposed to import any modules or libraries we cannot import the array module."
   ],
   "metadata": {
    "collapsed": false
   }
  },
  {
   "cell_type": "code",
   "execution_count": null,
   "outputs": [],
   "source": [
    "items = [\"Newton\", \"Einstein\", \"Curie\", \"Leibnitz\", \"Newton\", \"Curie\", \"Feynman\", \"Dalton\", \"Bose\", \"Rutherford\", \"Einstein\", \"Bose\"]\n",
    "\n",
    "frequency_dict = {}\n",
    "\n",
    "for item in items:\n",
    "    if item in frequency_dict.keys():\n",
    "        frequency_dict[item] += 1\n",
    "    else:\n",
    "        frequency_dict[item] = 1\n",
    "\n",
    "print(frequency_dict)"
   ],
   "metadata": {
    "collapsed": false,
    "ExecuteTime": {
     "start_time": "2023-04-14T19:36:31.203652Z",
     "end_time": "2023-04-14T19:36:31.232222Z"
    }
   }
  },
  {
   "cell_type": "markdown",
   "source": [
    "Exercise 5 - Given a number n, write a function to print all prime factors of n. For example, if the input number is 12, then output should be “2 2 3”."
   ],
   "metadata": {
    "collapsed": false
   }
  },
  {
   "cell_type": "code",
   "execution_count": null,
   "outputs": [],
   "source": [
    "prime_numbers = [ 2, 3, 5, 7, 11, 13, 17, 19, 23, 29, 31, 37, 41, 43, 47, 53, 59, 61, 67, 71, 73, 79, 83, 89, 97]\n",
    "\n",
    "prime_factors = []\n",
    "\n",
    "def find_prime_factors(composite_number):\n",
    "    is_complete = False\n",
    "    dividend = composite_number\n",
    "\n",
    "    while not is_complete:\n",
    "        for prime in prime_numbers:\n",
    "            if dividend >= prime:\n",
    "                if dividend % prime == 0:\n",
    "                    prime_factors.append(prime)\n",
    "                    dividend = dividend // prime\n",
    "                    break\n",
    "            else:\n",
    "                if dividend == 1:\n",
    "                    is_complete = True\n",
    "\n",
    "user_input = input(\"Please enter the number for which you would like prime factors: \")\n",
    "\n",
    "try:\n",
    "    numeric_input = int(user_input)\n",
    "except ValueError:\n",
    "    print(\"Please enter numeric values only!\")\n",
    "else:\n",
    "    find_prime_factors(composite_number=numeric_input)\n",
    "    print(prime_factors)"
   ],
   "metadata": {
    "collapsed": false,
    "ExecuteTime": {
     "start_time": "2023-04-14T19:36:31.215612Z",
     "end_time": "2023-04-14T19:37:00.275543Z"
    }
   }
  },
  {
   "cell_type": "markdown",
   "source": [
    "Exercise 6 - Given two numbers n and r, find the value of nCr (binomial coefficient: nCr = (n!) / (r! * (n-r)!))"
   ],
   "metadata": {
    "collapsed": false
   }
  },
  {
   "cell_type": "code",
   "execution_count": null,
   "outputs": [],
   "source": [
    "def find_factorial(m):\n",
    "    factorial = 1\n",
    "    for num in range(1, m + 1):\n",
    "        factorial *= num\n",
    "\n",
    "    return factorial\n",
    "\n",
    "user_num_1 = input(\"Please enter the first number: \")\n",
    "user_num_2 = input(\"Please enter the second number: \")\n",
    "\n",
    "try:\n",
    "    numeric_input_1 = int(user_num_1)\n",
    "    numeric_input_2 = int(user_num_2)\n",
    "except ValueError:\n",
    "    print(\"Please enter numeric values only!\")\n",
    "else:\n",
    "    binomial_coefficient = (find_factorial(m=numeric_input_1)) / (\n",
    "                find_factorial(m=numeric_input_2) * (find_factorial(m=(numeric_input_1 - numeric_input_2))))\n",
    "\n",
    "    print(binomial_coefficient)"
   ],
   "metadata": {
    "collapsed": false,
    "ExecuteTime": {
     "start_time": "2023-04-14T19:37:00.236848Z",
     "end_time": "2023-04-14T19:37:09.790709Z"
    }
   }
  },
  {
   "cell_type": "markdown",
   "source": [
    "Exercise 7 - Searching: Given a sorted array arr[] of n elements, write a function to search a given element x in arr[]. Do it using linear and binary search techniques."
   ],
   "metadata": {
    "collapsed": false
   }
  },
  {
   "cell_type": "code",
   "execution_count": null,
   "outputs": [],
   "source": [
    "def linear_search(ds_list, lkp_val):\n",
    "    for idx in range(len(ds_list)):\n",
    "        if lkp_val == ds_list[idx]:\n",
    "            return { \"key\":idx, \"value\": lkp_val}\n",
    "    return False\n",
    "\n",
    "\n",
    "py_libs = [\"Pandas\", \"Numpy\", \"SciPy\", \"Scrapy\", \"Matplotlib\", \"PyGame\", \"Turtle\", \"Tkinter\", \"PyBrain\"]\n",
    "lib = \"PyGame\"\n",
    "py_libs.sort()\n",
    "\n",
    "lin_search = linear_search(ds_list=py_libs, lkp_val=lib)\n",
    "if not lin_search:\n",
    "    print(f\"{lib} was not found in {py_libs}\")\n",
    "else:\n",
    "    print(f\"{lin_search['value']} was found at index {lin_search['key']} in the list by linear search algorithm.\")"
   ],
   "metadata": {
    "collapsed": false,
    "ExecuteTime": {
     "start_time": "2023-04-14T19:37:09.769344Z",
     "end_time": "2023-04-14T19:37:09.790925Z"
    }
   }
  },
  {
   "cell_type": "code",
   "execution_count": null,
   "outputs": [],
   "source": [
    "def binary_search(ds_list, start_idx, end_idx, lkp_val):\n",
    "\n",
    "    if end_idx >= start_idx:\n",
    "        mid_idx = start_idx + (end_idx - start_idx) // 2\n",
    "\n",
    "        # check to see if the value in middle of the sorted list is the value we are looking for\n",
    "        if ds_list[mid_idx] == lkp_val:\n",
    "            return { \"key\":mid_idx, \"value\":lkp_val}\n",
    "        # check to see if the value in the middle of the sorted list is greater than the value we are looking for\n",
    "        # if yes call the function recursively to look for the value in the first half of the list\n",
    "        elif ds_list[mid_idx] > lkp_val:\n",
    "            return binary_search(ds_list=ds_list, start_idx=start_idx, end_idx=mid_idx - 1, lkp_val=lkp_val)\n",
    "        # check to see if the value in the middle of the sorted list is less than the value we are looking for\n",
    "        # if yes call the function recursively to look for the value in the second half of the list\n",
    "        else:\n",
    "            return  binary_search(ds_list=ds_list, start_idx=mid_idx + 1, end_idx=end_idx, lkp_val=lkp_val)\n",
    "    else:\n",
    "        return False\n",
    "\n",
    "py_libs = [\"Pandas\", \"Numpy\", \"SciPy\", \"Scrapy\", \"Matplotlib\", \"PyGame\", \"Turtle\", \"Tkinter\", \"PyBrain\"]\n",
    "lib = \"NumPy\"\n",
    "py_libs.sort()\n",
    "\n",
    "bin_search = binary_search(ds_list=py_libs, start_idx=0, end_idx=len(py_libs) - 1, lkp_val=lib)\n",
    "if not bin_search:\n",
    "    print(f\"{lib} was not found in {py_libs}\")\n",
    "else:\n",
    "    print(f\"{bin_search['value']} was found at index {bin_search['key']} in the list by binary search algorithm.\")"
   ],
   "metadata": {
    "collapsed": false,
    "ExecuteTime": {
     "start_time": "2023-04-14T19:37:09.780852Z",
     "end_time": "2023-04-14T19:37:09.791132Z"
    }
   }
  },
  {
   "cell_type": "markdown",
   "source": [
    "Exercise 8 - Input a text file (containing 1 or more paragraphs of English text) from the user, parse this file to display the frequency of occurrence of each word in this text file. Find the 3 most frequent words as well."
   ],
   "metadata": {
    "collapsed": false
   }
  },
  {
   "cell_type": "code",
   "execution_count": null,
   "outputs": [],
   "source": [
    "raw_data = []\n",
    "with open(file=\"./Text.txt\", mode=\"r\") as file_stream:\n",
    "    raw_data = file_stream.readlines()\n",
    "\n",
    "word_count = {}\n",
    "top_3_words = {}\n",
    "\n",
    "for line in raw_data:\n",
    "    for word in line.split(sep=\" \"):\n",
    "        word = word.strip(\".,;?!' \\n\")\n",
    "        word = word.strip(\".,;?!' \\n\")\n",
    "        if word in word_count.keys():\n",
    "            word_count[word] += 1\n",
    "        else:\n",
    "            word_count[word] = 1\n",
    "\n",
    "print(f\"The frequency of occurrence of words in the text file is as follows: \\n {word_count}\")\n",
    "\n",
    "top_3_words = dict(sorted(word_count.items(), key= lambda x:x[1], reverse=True)[:3])\n",
    "\n",
    "print(f\"The top 3 words and their frequencies of occurrence are as follows: \\n {top_3_words}\")\n"
   ],
   "metadata": {
    "collapsed": false,
    "ExecuteTime": {
     "start_time": "2023-04-14T19:37:09.791493Z",
     "end_time": "2023-04-14T19:37:09.798472Z"
    }
   }
  }
 ],
 "metadata": {
  "kernelspec": {
   "display_name": "Python 3",
   "language": "python",
   "name": "python3"
  },
  "language_info": {
   "codemirror_mode": {
    "name": "ipython",
    "version": 2
   },
   "file_extension": ".py",
   "mimetype": "text/x-python",
   "name": "python",
   "nbconvert_exporter": "python",
   "pygments_lexer": "ipython2",
   "version": "2.7.6"
  }
 },
 "nbformat": 4,
 "nbformat_minor": 0
}
